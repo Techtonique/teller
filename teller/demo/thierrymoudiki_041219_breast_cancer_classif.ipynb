{
  "nbformat": 4,
  "nbformat_minor": 0,
  "metadata": {
    "colab": {
      "name": "teller_classification.ipynb",
      "provenance": []
    },
    "kernelspec": {
      "name": "python3",
      "display_name": "Python 3"
    }
  },
  "cells": [
    {
      "cell_type": "code",
      "metadata": {
        "id": "m1YQf1GQGxU0",
        "colab_type": "code",
        "colab": {}
      },
      "source": [
        "!pip install git+https://github.com/thierrymoudiki/teller.git --upgrade"
      ],
      "execution_count": 0,
      "outputs": []
    },
    {
      "cell_type": "code",
      "metadata": {
        "id": "kjbCaL1FG7Qe",
        "colab_type": "code",
        "colab": {}
      },
      "source": [
        "import math\n",
        "import pandas as pd\n",
        "import teller as tr\n",
        "import numpy as np\n",
        "from sklearn import datasets\n",
        "from sklearn.ensemble import RandomForestClassifier, ExtraTreesClassifier\n",
        "from sklearn.model_selection import train_test_split\n",
        "from sklearn.datasets import load_breast_cancer, load_wine, load_iris, make_classification\n",
        "\n",
        "\n",
        "\n",
        "breast_cancer = load_breast_cancer()\n",
        "Z = breast_cancer.data\n",
        "t = breast_cancer.target\n",
        "np.random.seed(123)\n",
        "X_train, X_test, y_train, y_test = train_test_split(Z, t, test_size=0.2)\n",
        "\n",
        "\n",
        "print(X_train.shape)\n",
        "print(X_test.shape)\n",
        "\n",
        "\n",
        "clf1 = ExtraTreesClassifier(n_estimators=250, \n",
        "                              max_features=int(math.sqrt(X_train.shape[1])),\n",
        "                              random_state=24869)\n",
        "\n",
        "# Model fitting\n",
        "clf1.fit(X_train, y_train)"
      ],
      "execution_count": 0,
      "outputs": []
    },
    {
      "cell_type": "code",
      "metadata": {
        "id": "qfhfxxirG-q9",
        "colab_type": "code",
        "colab": {
          "base_uri": "https://localhost:8080/",
          "height": 764
        },
        "outputId": "8c3629a4-be98-4dfc-abe4-ffe084f3de51"
      },
      "source": [
        "# creating the explainer\n",
        "expr1 = tr.Explainer(obj=clf1, y_class=1, normalize=False)\n",
        "\n",
        "\n",
        "# fitting the explainer (for heterogeneity of effects only)\n",
        "expr1.fit(X_test, y_test, X_names=breast_cancer.feature_names, \n",
        "          y_name=\"diagnosis\", method=\"avg\") \n",
        "\n",
        "# summary of results for the model\n",
        "print(expr1.summary())\n"
      ],
      "execution_count": 3,
      "outputs": [
        {
          "output_type": "stream",
          "text": [
            "\n",
            "\n",
            "Calculating the effects...\n",
            "30/30 [██████████████████████████████] - 2s 64ms/step\n",
            "\n",
            "\n",
            "\n",
            "\n",
            "Heterogeneity of marginal effects: \n",
            "                             mean       std        min        max\n",
            "fractal dimension error  1.799884  7.516243 -12.990260  52.611348\n",
            "symmetry error           0.663621  1.638966  -3.042987   8.487596\n",
            "smoothness error         0.371405  8.015564 -29.322010  35.620304\n",
            "compactness error        0.276751  1.313088  -5.046105   6.972281\n",
            "mean fractal dimension   0.215403  0.723197  -1.889026   2.863036\n",
            "concave points error     0.109004  3.042230 -12.525783  10.433098\n",
            "mean compactness         0.018320  0.399134  -1.502657   1.383265\n",
            "mean area               -0.000038  0.000116  -0.000540   0.000220\n",
            "worst area              -0.000072  0.000158  -0.001063   0.000128\n",
            "mean perimeter          -0.000366  0.001036  -0.004051   0.003221\n",
            "area error              -0.000388  0.001225  -0.004718   0.002234\n",
            "worst perimeter         -0.000974  0.001697  -0.007546   0.000470\n",
            "worst texture           -0.001800  0.004011  -0.022178   0.001863\n",
            "texture error           -0.002369  0.021752  -0.109654   0.090207\n",
            "mean texture            -0.002385  0.005097  -0.023249   0.006954\n",
            "mean radius             -0.002500  0.006156  -0.025396   0.008946\n",
            "perimeter error         -0.004462  0.017945  -0.113916   0.040701\n",
            "worst radius            -0.006831  0.011614  -0.053346   0.000000\n",
            "radius error            -0.021725  0.086096  -0.320521   0.301320\n",
            "worst compactness       -0.038807  0.182050  -0.671861   0.855613\n",
            "worst concavity         -0.052222  0.140451  -0.651871   0.145472\n",
            "mean symmetry           -0.053459  0.238402  -1.445236   0.533276\n",
            "concavity error         -0.055371  1.058414  -4.410306   3.350598\n",
            "worst symmetry          -0.067699  0.164230  -1.127555   0.323975\n",
            "mean concavity          -0.248246  0.555512  -2.942212   0.726867\n",
            "mean smoothness         -0.297697  0.829375  -4.825162   1.795923\n",
            "worst fractal dimension -0.319737  0.780914  -4.112171   1.209168\n",
            "worst smoothness        -0.349950  0.779021  -3.620899   1.638353\n",
            "worst concave points    -0.399108  0.762994  -3.855148   0.832632\n",
            "mean concave points     -0.533383  1.723310  -8.518613   4.094586\n",
            "\n",
            "\n",
            "None\n"
          ],
          "name": "stdout"
        }
      ]
    },
    {
      "cell_type": "code",
      "metadata": {
        "id": "SQUVnS3UHAi_",
        "colab_type": "code",
        "colab": {
          "base_uri": "https://localhost:8080/",
          "height": 1000
        },
        "outputId": "54ccd618-7557-4ee3-a77e-f395d4e3484c"
      },
      "source": [
        "# confidence intervals and tests on marginal effects (Jackknife)\n",
        "expr1.fit(X_test, y_test, X_names=breast_cancer.feature_names, \n",
        "          y_name=\"diagnosis\", method=\"ci\") \n",
        "\n",
        "# summary of results for the model\n",
        "print(expr1.summary())"
      ],
      "execution_count": 4,
      "outputs": [
        {
          "output_type": "stream",
          "text": [
            "\n",
            "\n",
            "Calculating the effects...\n",
            "114/114 [██████████████████████████████] - 12s 107ms/step\n",
            "\n",
            "\n",
            "\n",
            "\n",
            "Score (accuracy): \n",
            " 0.982\n",
            "\n",
            "\n",
            "Tests on marginal effects (Jackknife): \n",
            "                            Estimate   Std. Error   95% lbound   95% ubound  \\\n",
            "fractal dimension error      1.81581  4.24866e-14      1.81581      1.81581   \n",
            "symmetry error              0.669494  1.41622e-14     0.669494     0.669494   \n",
            "smoothness error            0.376295     0.181107    0.0174884     0.735101   \n",
            "compactness error           0.278986    0.0240899      0.23126     0.326713   \n",
            "mean fractal dimension      0.210467    0.0208958     0.169068     0.251865   \n",
            "concave points error        0.109969  2.06532e-15     0.109969     0.109969   \n",
            "mean compactness           0.0184824  2.22045e-16    0.0184824    0.0184824   \n",
            "mean area               -3.82313e-05  3.97195e-07 -3.90182e-05 -3.74444e-05   \n",
            "worst area               -7.2923e-05  2.22045e-16  -7.2923e-05  -7.2923e-05   \n",
            "mean perimeter          -0.000364225  1.02332e-05 -0.000384499 -0.000343951   \n",
            "area error              -0.000391581  9.27992e-06 -0.000409966 -0.000373196   \n",
            "worst perimeter          -0.00097061  2.84795e-05  -0.00102703 -0.000914187   \n",
            "worst texture            -0.00180309  2.86204e-05  -0.00185979  -0.00174638   \n",
            "texture error            -0.00238974  2.22045e-16  -0.00238974  -0.00238974   \n",
            "mean texture             -0.00240605    2.934e-05  -0.00246418  -0.00234792   \n",
            "mean radius              -0.00249336   5.0692e-05  -0.00259379  -0.00239293   \n",
            "perimeter error           -0.0045017  2.22045e-16   -0.0045017   -0.0045017   \n",
            "worst radius             -0.00683832   0.00011051  -0.00705726  -0.00661938   \n",
            "radius error              -0.0219084  0.000951828   -0.0237941   -0.0200226   \n",
            "worst compactness         -0.0391598   0.00110518   -0.0413494   -0.0369703   \n",
            "worst concavity            -0.052684  2.22045e-16    -0.052684    -0.052684   \n",
            "mean symmetry             -0.0539094   0.00250977   -0.0588817   -0.0489371   \n",
            "concavity error           -0.0558615  1.10642e-15   -0.0558615   -0.0558615   \n",
            "worst symmetry             -0.068274   0.00273199   -0.0736866   -0.0628614   \n",
            "mean concavity              -0.25041   0.00364837    -0.257639    -0.243182   \n",
            "mean smoothness            -0.300291   0.00761504    -0.315377    -0.285204   \n",
            "worst fractal dimension    -0.322478   0.00708593    -0.336517     -0.30844   \n",
            "worst smoothness           -0.352953    0.0085298    -0.369852    -0.336054   \n",
            "worst concave points        -0.40264  1.77027e-15     -0.40264     -0.40264   \n",
            "mean concave points        -0.538103  1.06216e-14    -0.538103    -0.538103   \n",
            "\n",
            "                             Pr(>|t|)       \n",
            "fractal dimension error             0  ***  \n",
            "symmetry error                      0  ***  \n",
            "smoothness error            0.0399984    *  \n",
            "compactness error         6.36215e-21  ***  \n",
            "mean fractal dimension    2.05084e-17  ***  \n",
            "concave points error                0  ***  \n",
            "mean compactness                    0  ***  \n",
            "mean area                2.83528e-110  ***  \n",
            "worst area                          0  ***  \n",
            "mean perimeter            3.10105e-63  ***  \n",
            "area error                5.25162e-71  ***  \n",
            "worst perimeter           2.76142e-61  ***  \n",
            "worst texture             7.32786e-90  ***  \n",
            "texture error                       0  ***  \n",
            "mean texture               1.598e-102  ***  \n",
            "mean radius               3.84131e-78  ***  \n",
            "perimeter error                     0  ***  \n",
            "worst radius              5.26015e-89  ***  \n",
            "radius error              1.81418e-44  ***  \n",
            "worst compactness         4.94204e-63  ***  \n",
            "worst concavity                     0  ***  \n",
            "mean symmetry             1.05948e-41  ***  \n",
            "concavity error                     0  ***  \n",
            "worst symmetry            7.57379e-48  ***  \n",
            "mean concavity            5.83742e-94  ***  \n",
            "mean smoothness           6.81996e-68  ***  \n",
            "worst fractal dimension   1.64252e-74  ***  \n",
            "worst smoothness          4.19687e-70  ***  \n",
            "worst concave points                0  ***  \n",
            "mean concave points                 0  ***  \n",
            "\n",
            "\n",
            "Signif. codes:  0 ‘***’ 0.001 ‘**’ 0.01 ‘*’ 0.05 ‘.’ 0.1 ‘-’ 1\n",
            "None\n"
          ],
          "name": "stdout"
        }
      ]
    }
  ]
}