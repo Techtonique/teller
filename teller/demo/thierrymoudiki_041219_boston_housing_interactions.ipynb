{
  "nbformat": 4,
  "nbformat_minor": 0,
  "metadata": {
    "colab": {
      "name": "teller_inters.ipynb",
      "provenance": []
    },
    "kernelspec": {
      "name": "python3",
      "display_name": "Python 3"
    }
  },
  "cells": [
    {
      "cell_type": "code",
      "metadata": {
        "id": "mBRM8KHQChAG",
        "colab_type": "code",
        "colab": {}
      },
      "source": [
        "!pip install git+https://github.com/thierrymoudiki/teller.git --upgrade"
      ],
      "execution_count": 0,
      "outputs": []
    },
    {
      "cell_type": "code",
      "metadata": {
        "id": "873akjuGqsFw",
        "colab_type": "code",
        "colab": {}
      },
      "source": [
        "import teller as tr\n",
        "import pandas as pd\n",
        "\n",
        "from sklearn import datasets\n",
        "import numpy as np      \n",
        "from sklearn import datasets\n",
        "from sklearn.ensemble import RandomForestRegressor\n",
        "from sklearn.model_selection import train_test_split"
      ],
      "execution_count": 0,
      "outputs": []
    },
    {
      "cell_type": "code",
      "metadata": {
        "id": "ANLFORgeCPzv",
        "colab_type": "code",
        "colab": {}
      },
      "source": [
        "# import data\n",
        "boston = datasets.load_boston()\n",
        "X = np.delete(boston.data, 11, 1)\n",
        "y = boston.target\n",
        "col_names = np.append(np.delete(boston.feature_names, 11), 'MEDV')\n",
        "\n",
        "\n",
        "# split  data into training and testing sets \n",
        "X_train, X_test, y_train, y_test = train_test_split(X, y, test_size=0.2, \n",
        "                                                    random_state=123)\n",
        "print(X_train.shape)\n",
        "print(X_test.shape)\n",
        "\n",
        "\n",
        "# fit a linear regression model \n",
        "regr = RandomForestRegressor(n_estimators=1000, random_state=123)\n",
        "regr.fit(X_train, y_train)\n"
      ],
      "execution_count": 0,
      "outputs": []
    },
    {
      "cell_type": "code",
      "metadata": {
        "id": "MfL3dKzxCU6n",
        "colab_type": "code",
        "colab": {}
      },
      "source": [
        "# creating the explainer\n",
        "expr = tr.Explainer(obj=regr)\n"
      ],
      "execution_count": 0,
      "outputs": []
    },
    {
      "cell_type": "code",
      "metadata": {
        "id": "LqqD-HdZCXWI",
        "colab_type": "code",
        "colab": {
          "base_uri": "https://localhost:8080/",
          "height": 364
        },
        "outputId": "2f5d98f2-2382-4f50-e8dc-3da8fce29046"
      },
      "source": [
        "# interactions with 'RAD' -----\n",
        "varx = \"RAD\"\n",
        "expr.fit(X_test, y_test, X_names=col_names[:-1], \n",
        "         y_name=col_names[-1], \n",
        "         col_inters = varx, method=\"inters\")\n",
        "print(expr.summary())"
      ],
      "execution_count": 5,
      "outputs": [
        {
          "output_type": "stream",
          "text": [
            "12/12 [██████████████████████████████] - 34s 3s/step\n",
            "\n",
            "\n",
            "\n",
            "\n",
            "Interactions with RAD: \n",
            "            Estimate   Std. Error   95% lbound   95% ubound  Pr(>|t|)     \n",
            "CRIM               0  2.22045e-16  4.40477e-16 -4.40477e-16         1    -\n",
            "ZN      -3.37992e-11  2.22045e-16 -3.37988e-11 -3.37997e-11         0  ***\n",
            "INDUS   -7.06339e-11  4.33823e-11  1.54248e-11 -1.56693e-10  0.106603    -\n",
            "CHAS               0  2.22045e-16  4.40477e-16 -4.40477e-16         1    -\n",
            "NOX     -3.80587e-10  4.33823e-10  4.80001e-10 -1.24117e-09  0.382413    -\n",
            "RM           4.05396  3.23892e-11      4.05396      4.05396         0  ***\n",
            "AGE      4.08624e-12  3.47213e-12   1.0974e-11 -2.80153e-12  0.242015    -\n",
            "DIS                0  2.22045e-16  4.40477e-16 -4.40477e-16         1    -\n",
            "RAD                0  2.22045e-16  4.40477e-16 -4.40477e-16         1    -\n",
            "TAX        -0.032699  2.22045e-16    -0.032699    -0.032699         0  ***\n",
            "PTRATIO    -0.889095     0.889095      0.87463     -2.65282    0.3197    -\n",
            "LSTAT    5.03253e-11  2.22045e-16  5.03258e-11  5.03249e-11         0  ***\n",
            "None\n"
          ],
          "name": "stdout"
        }
      ]
    },
    {
      "cell_type": "code",
      "metadata": {
        "id": "v_Xt8LRKCl8x",
        "colab_type": "code",
        "colab": {
          "base_uri": "https://localhost:8080/",
          "height": 364
        },
        "outputId": "87640bb4-e581-4d36-d077-005a10c93449"
      },
      "source": [
        "# interactions with 'RM' -----\n",
        "varx = \"RM\"\n",
        "expr.fit(X_test, y_test, X_names=col_names[:-1], \n",
        "         y_name=col_names[-1], \n",
        "         col_inters = varx, method=\"inters\")\n",
        "print(expr.summary())\n"
      ],
      "execution_count": 6,
      "outputs": [
        {
          "output_type": "stream",
          "text": [
            "12/12 [██████████████████████████████] - 33s 3s/step\n",
            "\n",
            "\n",
            "\n",
            "\n",
            "Interactions with RM: \n",
            "            Estimate   Std. Error   95% lbound   95% ubound      Pr(>|t|)     \n",
            "CRIM               0  2.22045e-16  4.40477e-16 -4.40477e-16             1    -\n",
            "ZN      -7.41298e-12  2.22045e-16 -7.41254e-12 -7.41342e-12             0  ***\n",
            "INDUS   -3.79269e-11    1.963e-11  1.01374e-12 -7.68675e-11     0.0561504    .\n",
            "CHAS               0  2.22045e-16  4.40477e-16 -4.40477e-16             1    -\n",
            "NOX     -3.13992e-10  2.12499e-10  1.07549e-10 -7.35532e-10      0.142622    -\n",
            "RM                 0  2.22045e-16  4.40477e-16 -4.40477e-16             1    -\n",
            "AGE        -0.521402  1.65828e-12    -0.521402    -0.521402             0  ***\n",
            "DIS       5.2504e-11  2.22045e-16  5.25044e-11  5.25036e-11             0  ***\n",
            "RAD          4.05396  3.23892e-11      4.05396      4.05396             0  ***\n",
            "TAX      9.58314e-13  2.22045e-16  9.58755e-13  9.57874e-13  9.44012e-268  ***\n",
            "PTRATIO  6.77272e-12  7.06388e-12  2.07856e-11 -7.24011e-12      0.339958    -\n",
            "LSTAT        2.70129  3.97481e-11      2.70129      2.70129             0  ***\n",
            "None\n"
          ],
          "name": "stdout"
        }
      ]
    }
  ]
}