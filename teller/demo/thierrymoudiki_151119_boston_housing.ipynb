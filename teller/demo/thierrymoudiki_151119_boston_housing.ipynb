{
  "nbformat": 4,
  "nbformat_minor": 0,
  "metadata": {
    "colab": {
      "name": "teller_boston_rf_et_bg.ipynb",
      "provenance": [],
      "collapsed_sections": []
    },
    "kernelspec": {
      "name": "python3",
      "display_name": "Python 3"
    }
  },
  "cells": [
    {
      "cell_type": "markdown",
      "metadata": {
        "id": "VKJGj4IzMMBB",
        "colab_type": "text"
      },
      "source": [
        "# Illustrating the `teller` (v0.3.0)\n",
        "\n",
        "This notebook is about the [`teller`](https://github.com/thierrymoudiki/teller), a model-agnostic tool for Machine Learning explainability. Version `0.3.0` allows to compare and understand model performances. We are going to compare 2 ML models on Boston Housing dataset:  [Extremely Randomized  Trees](https://en.wikipedia.org/wiki/Random_forest#ExtraTrees) and Random Forest Regressions.  \n",
        "\n",
        "Currently, the `teller` can be installed from Github as: "
      ]
    },
    {
      "cell_type": "code",
      "metadata": {
        "id": "O0x4rfI9MByJ",
        "colab_type": "code",
        "colab": {}
      },
      "source": [
        "!pip install git+https://github.com/thierrymoudiki/teller.git"
      ],
      "execution_count": 0,
      "outputs": []
    },
    {
      "cell_type": "markdown",
      "metadata": {
        "id": "dUZwnL7NM8ri",
        "colab_type": "text"
      },
      "source": [
        "Data for the demo is Boston Housing dataset. The response is MEDV, Median value of owner-occupied homes in $1000’s:\n",
        "\n",
        "\n",
        "\n",
        "- CRIM per capita crime rate by town\n",
        "- ZN proportion of residential land zoned for lots over 25,000 sq.ft.\n",
        "- INDUS proportion of non-retail business acres per town\n",
        "- CHAS Charles River dummy variable (= 1 if tract bounds river; 0 otherwise)\n",
        "- NOX nitric oxides concentration (parts per 10 million)\n",
        "- RM average number of rooms per dwelling\n",
        "- AGE proportion of owner-occupied units built prior to 1940\n",
        "- DIS weighted distances to five Boston employment centres\n",
        "- RAD index of accessibility to radial highways\n",
        "- TAX full-value property-tax rate per $10,000\n",
        "\n",
        "- PTRATIO pupil-teacher ratio by town\n",
        "- LSTAT % lower status of the population\n",
        "- MEDV Median value of owner-occupied homes in $1000’s (the __reponse__)\n",
        "\n",
        "\n",
        "We start by importing the packages and data necessary  for our demo:\n"
      ]
    },
    {
      "cell_type": "code",
      "metadata": {
        "id": "C4X01QkpNDWc",
        "colab_type": "code",
        "colab": {}
      },
      "source": [
        "# Import packages and data\n",
        "import teller as tr\n",
        "import pandas as pd\n",
        "import numpy as np   \n",
        "import lightgbm as lgb\n",
        "import xgboost as xgb\n",
        "import math\n",
        "\n",
        "\n",
        "\n",
        "from sklearn import datasets, linear_model\n",
        "from sklearn.ensemble import RandomForestRegressor, ExtraTreesRegressor, BaggingRegressor\n",
        "from sklearn import datasets\n",
        "from sklearn.model_selection import train_test_split, GridSearchCV\n",
        "from sklearn import metrics\n",
        "\n",
        "# import data\n",
        "boston = datasets.load_boston()\n",
        "X = np.delete(boston.data, 11, 1)\n",
        "y = boston.target\n",
        "col_names = np.append(np.delete(boston.feature_names, 11), 'MEDV')\n"
      ],
      "execution_count": 0,
      "outputs": []
    },
    {
      "cell_type": "markdown",
      "metadata": {
        "id": "ChTdmrmHNIUS",
        "colab_type": "text"
      },
      "source": [
        "We split data into a training and a testing set:"
      ]
    },
    {
      "cell_type": "code",
      "metadata": {
        "id": "fGFLkh4FNLnD",
        "colab_type": "code",
        "colab": {
          "base_uri": "https://localhost:8080/",
          "height": 121
        },
        "outputId": "b49fbc71-bec4-4a26-df28-f2684eff5afa"
      },
      "source": [
        "X_train, X_test, y_train, y_test = train_test_split(X, y, test_size=0.2, \n",
        "                                                    random_state=123)\n",
        "print(X_train.shape)\n",
        "print(X_test.shape)\n",
        "print(\"mean of y_test: \")\n",
        "print(np.mean(y_test))\n",
        "print(\"std. deviation of y_test: \")\n",
        "print(np.std(y_test))"
      ],
      "execution_count": 4,
      "outputs": [
        {
          "output_type": "stream",
          "text": [
            "(404, 12)\n",
            "(102, 12)\n",
            "mean of y_test: \n",
            "23.158823529411773\n",
            "std. deviation of y_test: \n",
            "9.095919715930988\n"
          ],
          "name": "stdout"
        }
      ]
    },
    {
      "cell_type": "markdown",
      "metadata": {
        "id": "uKu7yUXYE60K",
        "colab_type": "text"
      },
      "source": [
        "Now we train our 2 models, starting with the Extremely Randomized Trees:"
      ]
    },
    {
      "cell_type": "code",
      "metadata": {
        "id": "jwufbKUlFFWk",
        "colab_type": "code",
        "colab": {
          "base_uri": "https://localhost:8080/",
          "height": 1000
        },
        "outputId": "0331ea2b-13ec-44e8-db30-95cc6659661d"
      },
      "source": [
        "# fit an Extra Trees model to Boston Housing data\n",
        "regr2 = ExtraTreesRegressor(n_estimators=1000, \n",
        "                            max_features=int(math.sqrt(X_train.shape[1])),\n",
        "                            random_state=123)\n",
        "regr2.fit(X_train, y_train)\n",
        "\n",
        "\n",
        "# creating the explainer\n",
        "expr2 = tr.Explainer(obj=regr2)\n",
        "\n",
        "\n",
        "# fitting the explainer (for heterogeneity of effects only)\n",
        "expr2.fit(X_test, y_test, X_names=col_names[:-1], method=\"avg\")\n",
        "\n",
        "\n",
        "# confidence intervals and tests on marginal effects (Jackknife)\n",
        "expr2.fit(X_test, y_test, X_names=col_names[:-1], method=\"ci\")\n",
        "\n",
        "\n",
        "# summary of results for the model\n",
        "print(expr2.summary())\n"
      ],
      "execution_count": 5,
      "outputs": [
        {
          "output_type": "stream",
          "text": [
            "\n",
            "\n",
            "Calculating the effects...\n",
            "12/12 [██████████████████████████████] - 2s 153ms/step\n",
            "\n",
            "\n",
            "\n",
            "\n",
            "Calculating the effects...\n",
            "102/102 [██████████████████████████████] - 13s 124ms/step\n",
            "\n",
            "\n",
            "\n",
            "\n",
            "Score (rmse): \n",
            " 10.813\n",
            "\n",
            "\n",
            "Residuals: \n",
            "     Min       1Q    Median        3Q       Max\n",
            "-11.7904 -1.84795 -0.288655  0.937975  18.51445\n",
            "\n",
            "\n",
            "Tests on marginal effects (Jackknife): \n",
            "          Estimate   Std. Error   95% lbound   95% ubound     Pr(>|t|)     \n",
            "NOX       -59.4205  2.22045e-16     -59.4205     -59.4205            0  ***\n",
            "PTRATIO   -2.00072     0.390455     -2.77528     -1.22616  1.44031e-06  ***\n",
            "CRIM             0  2.22045e-16 -4.40477e-16  4.40477e-16            1    -\n",
            "ZN               0  2.22045e-16 -4.40477e-16  4.40477e-16            1    -\n",
            "CHAS             0  2.22045e-16 -4.40477e-16  4.40477e-16            1    -\n",
            "RAD              0  2.22045e-16 -4.40477e-16  4.40477e-16            1    -\n",
            "TAX      0.0121302  2.22045e-16    0.0121302    0.0121302            0  ***\n",
            "INDUS    0.0125259  3.31241e-16    0.0125259    0.0125259            0  ***\n",
            "LSTAT     0.127336      0.27273    -0.413686     0.668359      0.64158    -\n",
            "AGE       0.643206  6.69456e-15     0.643206     0.643206            0  ***\n",
            "DIS        1.17726  2.45467e-14      1.17726      1.17726            0  ***\n",
            "RM         7.29791     0.201907      6.89738      7.69844  1.37027e-59  ***\n",
            "\n",
            "\n",
            "Signif. codes:  0 ‘***’ 0.001 ‘**’ 0.01 ‘*’ 0.05 ‘.’ 0.1 ‘-’ 1\n",
            "\n",
            "\n",
            "Multiple R-squared:  0.869,\tAdjusted R-squared:  0.852\n",
            "\n",
            "\n",
            "Heterogeneity of marginal effects: \n",
            "              mean         std          min         max\n",
            "NOX     -58.837937  476.247650 -4564.951708  755.791176\n",
            "PTRATIO  -1.818289   19.700286  -130.395492   38.014987\n",
            "CRIM      0.000000    0.000000     0.000000    0.000000\n",
            "ZN        0.000000    0.000000     0.000000    0.000000\n",
            "CHAS      0.000000    0.000000     0.000000    0.000000\n",
            "RAD       0.000000    0.000000     0.000000    0.000000\n",
            "TAX       0.012011    0.102841     0.000000    1.020264\n",
            "INDUS     0.012403    0.125266     0.000000    1.265120\n",
            "LSTAT     0.128762    2.955437    -8.391279   27.818439\n",
            "AGE       0.636900    4.638587    -1.521252   34.266627\n",
            "DIS       1.165723   14.435157   -24.558015  143.461713\n",
            "RM        7.228340   28.794942     0.000000  215.621069\n",
            "None\n"
          ],
          "name": "stdout"
        }
      ]
    },
    {
      "cell_type": "markdown",
      "metadata": {
        "id": "yDWSkg990RrM",
        "colab_type": "text"
      },
      "source": [
        "Extra Trees predictions for home value are highly sensisitive to air pollution. And increase of 1 in nitrogen oxides concentration (parts per 10 million) leads, all else held constant and on average, to a decrease of 58k$ in median homes' values. The increase in home value is driven by the number of rooms. We can also note that variables such as criminality rate and the accessibility to radial highways, seem to have a negligible impact on model predictions.\n",
        "\n",
        "\n",
        "\n",
        "Now, we'll train a `RandomForest` on the same dataset, and see what it tells us about its predictions: "
      ]
    },
    {
      "cell_type": "code",
      "metadata": {
        "id": "s4XLtKJH0YGW",
        "colab_type": "code",
        "colab": {
          "base_uri": "https://localhost:8080/",
          "height": 1000
        },
        "outputId": "1d32ebff-fe0a-4468-f9cf-8e7bb2ea7af0"
      },
      "source": [
        "# fit a random forest model \n",
        "regr1 = RandomForestRegressor(n_estimators=1000, \n",
        "                              max_features=int(math.sqrt(X_train.shape[1])),\n",
        "                              random_state=123)\n",
        "regr1.fit(X_train, y_train)\n",
        "\n",
        "\n",
        "# creating the explainer\n",
        "expr1 = tr.Explainer(obj=regr1)\n",
        "\n",
        "\n",
        "# fitting the explainer (for heterogeneity of effects only)\n",
        "expr1.fit(X_test, y_test, X_names=col_names[:-1], method=\"avg\")\n",
        "\n",
        "\n",
        "# confidence intervals and tests on marginal effects (Jackknife)\n",
        "expr1.fit(X_test, y_test, X_names=col_names[:-1], method=\"ci\")\n",
        "\n",
        "\n",
        "# summary of results for the model\n",
        "print(expr1.summary())"
      ],
      "execution_count": 6,
      "outputs": [
        {
          "output_type": "stream",
          "text": [
            "\n",
            "\n",
            "Calculating the effects...\n",
            "12/12 [██████████████████████████████] - 2s 143ms/step\n",
            "\n",
            "\n",
            "\n",
            "\n",
            "Calculating the effects...\n",
            "102/102 [██████████████████████████████] - 12s 116ms/step\n",
            "\n",
            "\n",
            "\n",
            "\n",
            "Score (rmse): \n",
            " 13.639\n",
            "\n",
            "\n",
            "Residuals: \n",
            "     Min     1Q  Median       3Q      Max\n",
            "-10.6667 -1.396 -0.5047  1.25705  22.4512\n",
            "\n",
            "\n",
            "Tests on marginal effects (Jackknife): \n",
            "         Estimate   Std. Error   95% lbound   95% ubound     Pr(>|t|)     \n",
            "NOX      -65.9852      23.5248     -112.652     -19.3183   0.00603773   **\n",
            "PTRATIO  -19.0443      5.74131     -30.4335      -7.6551   0.00126512   **\n",
            "LSTAT      -2.972      3.11832     -9.15791      3.21392     0.342827    -\n",
            "INDUS    -1.90767      2.88467     -7.63009      3.81474     0.509917    -\n",
            "ZN      -0.670289     0.429838     -1.52297     0.182394      0.12203    -\n",
            "TAX     -0.412312    0.0252358    -0.462373    -0.362251  4.10351e-30  ***\n",
            "CHAS            0  2.22045e-16 -4.40477e-16  4.40477e-16            1    -\n",
            "AGE      0.583416   5.5788e-15     0.583416     0.583416            0  ***\n",
            "CRIM      4.74938  1.16039e-13      4.74938      4.74938            0  ***\n",
            "DIS       10.7329  2.14226e-13      10.7329      10.7329            0  ***\n",
            "RAD       20.1803      4.93784       10.385      29.9757  8.78367e-05  ***\n",
            "RM        31.1946     0.809636      29.5885      32.8007  3.33135e-62  ***\n",
            "\n",
            "\n",
            "Signif. codes:  0 ‘***’ 0.001 ‘**’ 0.01 ‘*’ 0.05 ‘.’ 0.1 ‘-’ 1\n",
            "\n",
            "\n",
            "Multiple R-squared:  0.835,\tAdjusted R-squared:  0.813\n",
            "\n",
            "\n",
            "Heterogeneity of marginal effects: \n",
            "              mean         std          min          max\n",
            "NOX     -65.077408  837.110491 -7304.767586  2092.276204\n",
            "PTRATIO -18.914731   81.475430  -585.195412    40.313679\n",
            "LSTAT    -3.504697   51.609150  -260.521317   226.189605\n",
            "INDUS    -1.917253   76.799856  -342.638186   617.598139\n",
            "ZN       -0.667706    9.494545   -49.129261    41.635391\n",
            "TAX      -0.408517    3.248658   -32.287535     0.880749\n",
            "CHAS      0.000000    0.000000     0.000000     0.000000\n",
            "AGE       0.577696   12.232191   -71.283614    85.560655\n",
            "CRIM      4.702817   47.496127     0.000000   479.687370\n",
            "DIS      10.627708   62.112145     0.000000   540.229275\n",
            "RAD      20.011127  144.732678  -332.344998   623.404904\n",
            "RM       30.895241  169.441083  -247.545527  1346.559346\n",
            "None\n"
          ],
          "name": "stdout"
        }
      ]
    },
    {
      "cell_type": "markdown",
      "metadata": {
        "id": "5SlKyb0WJf65",
        "colab_type": "text"
      },
      "source": [
        "For this model too, air pollution is an important variable driving the decrease in home value. The lack of teachers for each kid plays a more important role but  contrary to Extra Trees, the Random Forest gives much more importance to the accessibility of radial highways.\n",
        "\n",
        "We can finally __compare both models side by side__, using the `teller`'s `Comparator`:"
      ]
    },
    {
      "cell_type": "code",
      "metadata": {
        "id": "b3lviQoCLCQS",
        "colab_type": "code",
        "colab": {
          "base_uri": "https://localhost:8080/",
          "height": 885
        },
        "outputId": "52350322-d756-4623-a0b8-eb53309d571a"
      },
      "source": [
        "# create object for model comparison\n",
        "# expr1 is for Random Forest \n",
        "# expr2 is for Extra Trees\n",
        "cpr = tr.Comparator(expr1, expr2)\n",
        "\n",
        "\n",
        "# print summary of results for model comparison\n",
        "print(cpr.summary())"
      ],
      "execution_count": 7,
      "outputs": [
        {
          "output_type": "stream",
          "text": [
            "\n",
            "\n",
            "Scores (rmse): \n",
            "Object1: 13.639\n",
            "Object2: 10.813\n",
            "\n",
            "\n",
            "R-squared: \n",
            "Object1: \n",
            "Multiple:  0.835, Adjusted:  0.813\n",
            "Object2: \n",
            "Multiple:  0.869, Adjusted:  0.852\n",
            "\n",
            "\n",
            "Residuals: \n",
            "Object1: \n",
            "     Min     1Q  Median       3Q      Max\n",
            "-10.6667 -1.396 -0.5047  1.25705  22.4512\n",
            "Object2: \n",
            "     Min       1Q    Median        3Q       Max\n",
            "-11.7904 -1.84795 -0.288655  0.937975  18.51445\n",
            "\n",
            "\n",
            "Paired t-test (H0: mean(resids1) > mean(resids2) at 5%): \n",
            "statistic: 0.18249\n",
            "p.value: 0.57231\n",
            "conf. int: [-inf, 0.90189]\n",
            "mean of x: -0.11477\n",
            "mean of y: -0.20446\n",
            "alternative: less\n",
            "\n",
            "\n",
            "Marginal effects: \n",
            "        Estimate1  Std. Error1 Signif.  Estimate2  Std. Error2 Signif.\n",
            "AGE      0.583416   5.5788e-15     ***   0.643206  6.69456e-15     ***\n",
            "CHAS            0  2.22045e-16       -          0  2.22045e-16       -\n",
            "CRIM      4.74938  1.16039e-13     ***          0  2.22045e-16       -\n",
            "DIS       10.7329  2.14226e-13     ***    1.17726  2.45467e-14     ***\n",
            "INDUS    -1.90767      2.88467       -  0.0125259  3.31241e-16     ***\n",
            "LSTAT      -2.972      3.11832       -   0.127336      0.27273       -\n",
            "NOX      -65.9852      23.5248      **   -59.4205  2.22045e-16     ***\n",
            "PTRATIO  -19.0443      5.74131      **   -2.00072     0.390455     ***\n",
            "RAD       20.1803      4.93784     ***          0  2.22045e-16       -\n",
            "RM        31.1946     0.809636     ***    7.29791     0.201907     ***\n",
            "TAX     -0.412312    0.0252358     ***  0.0121302  2.22045e-16     ***\n",
            "ZN      -0.670289     0.429838       -          0  2.22045e-16       -\n",
            "\n",
            "\n",
            "Signif. codes:  0 ‘***’ 0.001 ‘**’ 0.01 ‘*’ 0.05 ‘.’ 0.1 ‘-’ 1\n",
            "None\n"
          ],
          "name": "stdout"
        }
      ]
    },
    {
      "cell_type": "markdown",
      "metadata": {
        "id": "jjkQwgC4mUlE",
        "colab_type": "text"
      },
      "source": [
        "The first output is test set Root Mean Squared Error (RMSE) for both models, then we have information such as Multiple R-Squared and the distribution of residuals. Confidence interval (given by a Student t-test) around the difference of residuals means contains 0, so the null hypothesis is not rejected at 5%.\n"
      ]
    }
  ]
}