{
  "nbformat": 4,
  "nbformat_minor": 0,
  "metadata": {
    "colab": {
      "provenance": [],
      "collapsed_sections": []
    },
    "kernelspec": {
      "name": "python3",
      "display_name": "Python 3"
    },
    "language_info": {
      "name": "python"
    }
  },
  "cells": [
    {
      "cell_type": "markdown",
      "source": [
        "# 0 - Install packages "
      ],
      "metadata": {
        "id": "2rrV8ztzVzS0"
      }
    },
    {
      "cell_type": "code",
      "source": [
        "!pip install the-teller"
      ],
      "metadata": {
        "id": "2bivHHMlSxBC"
      },
      "execution_count": null,
      "outputs": []
    },
    {
      "cell_type": "code",
      "source": [
        "!pip install BCN"
      ],
      "metadata": {
        "id": "otzPPjWjXpHp"
      },
      "execution_count": null,
      "outputs": []
    },
    {
      "cell_type": "markdown",
      "source": [
        "# 1 - Import packages + data"
      ],
      "metadata": {
        "id": "2xGzgCXMbrHc"
      }
    },
    {
      "cell_type": "code",
      "source": [
        "import BCN as bcn # takes a long time to run, ONLY the first time it's run\n",
        "import teller as tr\n",
        "import numpy as np\n",
        "from sklearn.datasets import load_diabetes\n",
        "from sklearn.model_selection import train_test_split\n",
        "from sklearn import metrics\n",
        "from time import time"
      ],
      "metadata": {
        "id": "t8h-kCJ5YVbL"
      },
      "execution_count": 39,
      "outputs": []
    },
    {
      "cell_type": "markdown",
      "source": [
        "**import `diabetes` dataset**"
      ],
      "metadata": {
        "id": "hkPXH_CCbtkH"
      }
    },
    {
      "cell_type": "code",
      "source": [
        "# https://scikit-learn.org/stable/datasets/toy_dataset.html#diabetes-dataset\n",
        "\n",
        "dataset = load_diabetes()\n",
        "X = dataset.data\n",
        "y = dataset.target\n",
        "\n",
        "# split data into training test and test set\n",
        "X_train, X_test, y_train, y_test = train_test_split(X, y, \n",
        "                                                    test_size=0.2, random_state=13)"
      ],
      "metadata": {
        "id": "I-sxoeIdYKAs"
      },
      "execution_count": 40,
      "outputs": []
    },
    {
      "cell_type": "code",
      "source": [
        "print(X_train.shape)\n",
        "print(y_train.shape)\n",
        "print(X_test.shape)\n",
        "print(y_test.shape)"
      ],
      "metadata": {
        "colab": {
          "base_uri": "https://localhost:8080/"
        },
        "id": "1cWPaHw6Yme7",
        "outputId": "49ca9dd0-0868-45ee-c83f-0f4addfcc81f"
      },
      "execution_count": 41,
      "outputs": [
        {
          "output_type": "stream",
          "name": "stdout",
          "text": [
            "(353, 10)\n",
            "(353,)\n",
            "(89, 10)\n",
            "(89,)\n"
          ]
        }
      ]
    },
    {
      "cell_type": "code",
      "source": [
        "print(y.mean())"
      ],
      "metadata": {
        "colab": {
          "base_uri": "https://localhost:8080/"
        },
        "id": "gGfw7OpHef7h",
        "outputId": "b155d3df-23e4-4aa6-830e-6fa16993b3e1"
      },
      "execution_count": 42,
      "outputs": [
        {
          "output_type": "stream",
          "name": "stdout",
          "text": [
            "152.13348416289594\n"
          ]
        }
      ]
    },
    {
      "cell_type": "code",
      "source": [
        "print(y.std())"
      ],
      "metadata": {
        "colab": {
          "base_uri": "https://localhost:8080/"
        },
        "id": "b1ovQPWQelTS",
        "outputId": "27df8879-21c0-49b6-e5f6-40c234964f25"
      },
      "execution_count": 43,
      "outputs": [
        {
          "output_type": "stream",
          "name": "stdout",
          "text": [
            "77.00574586945044\n"
          ]
        }
      ]
    },
    {
      "cell_type": "markdown",
      "source": [
        "# 2 - Adjust BCN model to training set, eval on test set"
      ],
      "metadata": {
        "id": "mK3oquVTbyOq"
      }
    },
    {
      "cell_type": "code",
      "source": [
        "start = time()\n",
        "\n",
        "regr_bcn = bcn.BCNRegressor(**{'B': 122,\n",
        " 'nu': 0.7862040612242153,\n",
        " 'col_sample': 0.6797268557618982,\n",
        " 'lam': 0.9244772287770061,\n",
        " 'r': 0.18915458607547728,\n",
        " 'tol': 9.670499926559012e-10})\n",
        "\n",
        "regr_bcn.fit(X_train, y_train)\n",
        "\n",
        "print(f\"\\nElapsed {time() - start}\") \n",
        "\n",
        "preds = regr_bcn.predict(X_test)\n",
        "\n",
        "print(np.sqrt(np.mean(np.square(y_test - preds))))"
      ],
      "metadata": {
        "colab": {
          "base_uri": "https://localhost:8080/"
        },
        "id": "92mMM3E0ZCHP",
        "outputId": "1840c8ec-f426-4644-9684-760255125d63"
      },
      "execution_count": 44,
      "outputs": [
        {
          "output_type": "stream",
          "name": "stdout",
          "text": [
            "  |======================================================================| 100%\n",
            "\n",
            "Elapsed 0.641953706741333\n",
            "54.50979209778048\n"
          ]
        }
      ]
    },
    {
      "cell_type": "markdown",
      "source": [
        "# 3 - Adjust the teller's Explainer to test set"
      ],
      "metadata": {
        "id": "FhGEqqS2XIay"
      }
    },
    {
      "cell_type": "code",
      "source": [
        "start = time()\n",
        "\n",
        "# creating an Explainer for the fitted object `regr_bcn`\n",
        "expr = tr.Explainer(obj=regr_bcn)\n",
        "\n",
        "# confidence int. and tests on covariates' effects (Jackknife)\n",
        "expr.fit(X_test, y_test, X_names=dataset.feature_names, method=\"ci\")\n",
        "\n",
        "# summary of results\n",
        "expr.summary()\n",
        "\n",
        "# timing\n",
        "print(f\"\\n Elapsed: {time()-start}\")"
      ],
      "metadata": {
        "colab": {
          "base_uri": "https://localhost:8080/"
        },
        "id": "jBkk18N9ZdvE",
        "outputId": "c1c9edcb-54c2-4afa-bc4c-6f97c874aba2"
      },
      "execution_count": 45,
      "outputs": [
        {
          "output_type": "stream",
          "name": "stdout",
          "text": [
            "\n",
            "\n",
            "Score (rmse): \n",
            " 54.51\n",
            "\n",
            "\n",
            "Residuals: \n",
            "       Min         1Q   Median        3Q        Max\n",
            "-119.79528 -30.293474 9.749065 45.169791 124.891462\n",
            "\n",
            "\n",
            "Tests on marginal effects (Jackknife): \n",
            "       Estimate Std. Error  95% lbound  95% ubound  Pr(>|t|)     \n",
            "bmi  534.170652  10.538064  513.228463   555.11284       0.0  ***\n",
            "s5   460.090298    11.7154  436.808403  483.372194       0.0  ***\n",
            "bp   245.510926   7.073121  231.454584  259.567267       0.0  ***\n",
            "s6   117.899033   8.865569  100.280578  135.517488       0.0  ***\n",
            "s4     71.20425   4.885591   61.495165   80.913336       0.0  ***\n",
            "age    3.144209   7.616405  -11.991795   18.280213  0.680742    -\n",
            "s1    -31.76086   8.823018  -49.294754  -14.226967  0.000526  ***\n",
            "s2  -104.139443   8.596589 -121.223357  -87.055529       0.0  ***\n",
            "sex -167.461194    3.92965 -175.270546 -159.651841       0.0  ***\n",
            "s3  -210.749954   5.580957 -221.840934 -199.658975       0.0  ***\n",
            "\n",
            "\n",
            "Signif. codes:  0 ‘***’ 0.001 ‘**’ 0.01 ‘*’ 0.05 ‘.’ 0.1 ‘-’ 1\n",
            "\n",
            "\n",
            "Multiple R-squared:  0.394,\tAdjusted R-squared:  0.316\n",
            "\n",
            " Elapsed: 0.1125936508178711\n"
          ]
        }
      ]
    },
    {
      "cell_type": "markdown",
      "source": [
        "# 4 - Prediction intervals"
      ],
      "metadata": {
        "id": "vbbtOEp-Xdoi"
      }
    },
    {
      "cell_type": "markdown",
      "source": [
        "## 4 - 1 Split conformal"
      ],
      "metadata": {
        "id": "ir-stT3MXn-v"
      }
    },
    {
      "cell_type": "code",
      "source": [
        "pi = tr.PredictionInterval(regr_bcn, method=\"splitconformal\", level=0.95)"
      ],
      "metadata": {
        "id": "AIrHmxlTZlvl"
      },
      "execution_count": 46,
      "outputs": []
    },
    {
      "cell_type": "code",
      "source": [
        "pi.fit(X_train, y_train)"
      ],
      "metadata": {
        "colab": {
          "base_uri": "https://localhost:8080/"
        },
        "id": "E6Y699Y0Zo4q",
        "outputId": "699a4c4b-fed3-47c7-bb03-4b411f8ff48a"
      },
      "execution_count": 47,
      "outputs": [
        {
          "output_type": "stream",
          "name": "stdout",
          "text": [
            "  |======================================================================| 100%\n"
          ]
        },
        {
          "output_type": "execute_result",
          "data": {
            "text/plain": [
              "PredictionInterval(obj=BCNRegressor(B=122, col_sample=0.6797268557618982,\n",
              "                                    lam=0.9244772287770061,\n",
              "                                    nu=0.7862040612242153,\n",
              "                                    r=0.18915458607547728,\n",
              "                                    tol=9.670499926559012e-10))"
            ]
          },
          "metadata": {},
          "execution_count": 47
        }
      ]
    },
    {
      "cell_type": "code",
      "source": [
        "preds = pi.predict(X_test, return_pi=True)"
      ],
      "metadata": {
        "id": "iZjz_jozZphf"
      },
      "execution_count": 48,
      "outputs": []
    },
    {
      "cell_type": "code",
      "source": [
        "pred = preds[0]\n",
        "y_lower = preds[1]\n",
        "y_upper = preds[2]\n",
        "print(len(pred))\n",
        "\n",
        "# average coverage\n",
        "print(np.mean((y_test >= y_lower) & (y_test <= y_upper)))\n",
        "length_pi = y_upper - y_lower\n",
        "print(np.mean(length_pi))"
      ],
      "metadata": {
        "colab": {
          "base_uri": "https://localhost:8080/"
        },
        "id": "jyfLMMkTZzH9",
        "outputId": "479d6ca0-9333-48e2-c2f0-d3bc04060a3f"
      },
      "execution_count": 49,
      "outputs": [
        {
          "output_type": "stream",
          "name": "stdout",
          "text": [
            "89\n",
            "0.9438202247191011\n",
            "209.55455918396666\n"
          ]
        }
      ]
    },
    {
      "cell_type": "markdown",
      "source": [
        "## 4 - 2 Local conformal"
      ],
      "metadata": {
        "id": "BNsRnf1uXzcl"
      }
    },
    {
      "cell_type": "code",
      "source": [
        "pi2 = tr.PredictionInterval(regr_bcn, method=\"localconformal\", level=0.95)"
      ],
      "metadata": {
        "id": "vOHzO0YtZ509"
      },
      "execution_count": 50,
      "outputs": []
    },
    {
      "cell_type": "code",
      "source": [
        "pi2.fit(X_train, y_train)"
      ],
      "metadata": {
        "colab": {
          "base_uri": "https://localhost:8080/"
        },
        "id": "XsYX0FzGZ8tK",
        "outputId": "343130d7-2865-4e05-b7aa-d51d5da9fb8a"
      },
      "execution_count": 51,
      "outputs": [
        {
          "output_type": "stream",
          "name": "stdout",
          "text": [
            "  |======================================================================| 100%\n"
          ]
        },
        {
          "output_type": "execute_result",
          "data": {
            "text/plain": [
              "PredictionInterval(method='localconformal',\n",
              "                   obj=BCNRegressor(B=122, col_sample=0.6797268557618982,\n",
              "                                    lam=0.9244772287770061,\n",
              "                                    nu=0.7862040612242153,\n",
              "                                    r=0.18915458607547728,\n",
              "                                    tol=9.670499926559012e-10))"
            ]
          },
          "metadata": {},
          "execution_count": 51
        }
      ]
    },
    {
      "cell_type": "code",
      "source": [
        "preds2 = pi2.predict(X_test, return_pi=True)"
      ],
      "metadata": {
        "id": "Pwc6T6woZ_GE"
      },
      "execution_count": 52,
      "outputs": []
    },
    {
      "cell_type": "code",
      "source": [
        "pred2 = preds2[0]\n",
        "y_lower2 = preds2[1]\n",
        "y_upper2 = preds2[2]\n",
        "print(len(pred2))\n",
        "\n",
        "# compute and display the average coverage\n",
        "print(np.mean((y_test >= y_lower2) & (y_test <= y_upper2)))\n",
        "length_pi2 = y_upper2 - y_lower2\n",
        "print(np.mean(length_pi2))"
      ],
      "metadata": {
        "colab": {
          "base_uri": "https://localhost:8080/"
        },
        "id": "eRqGTLj4aDVg",
        "outputId": "9fa6f8d9-5d39-4292-f8a2-fcdceddc9471"
      },
      "execution_count": 53,
      "outputs": [
        {
          "output_type": "stream",
          "name": "stdout",
          "text": [
            "89\n",
            "0.9550561797752809\n",
            "229.03014949955275\n"
          ]
        }
      ]
    },
    {
      "cell_type": "markdown",
      "source": [
        "# 5 - Plot prediction intervals"
      ],
      "metadata": {
        "id": "ISvJMghnX7RV"
      }
    },
    {
      "cell_type": "code",
      "source": [
        "import warnings\n",
        "warnings.filterwarnings('ignore')\n",
        "\n",
        "import matplotlib\n",
        "matplotlib.use('Agg')\n",
        "import matplotlib.pyplot as plt\n",
        "\n",
        "import numpy as np\n",
        "np.warnings.filterwarnings('ignore')\n",
        "\n",
        "\n",
        "split_color = 'tomato'\n",
        "local_color = 'gray'\n",
        "\n",
        "%matplotlib inline\n",
        "np.random.seed(1)\n",
        "\n",
        "\n",
        "def plot_func(x,\n",
        "              y,\n",
        "              y_u=None,\n",
        "              y_l=None,\n",
        "              pred=None,\n",
        "              shade_color=\"\",\n",
        "              method_name=\"\",\n",
        "              title=\"\"):\n",
        "        \n",
        "    fig = plt.figure()\n",
        "    \n",
        "    plt.plot(x, y, 'k.', alpha=.3, markersize=10,\n",
        "             fillstyle='full', label=u'Test set observations')\n",
        "    \n",
        "    if (y_u is not None) and (y_l is not None):\n",
        "        plt.fill(np.concatenate([x, x[::-1]]),\n",
        "                 np.concatenate([y_u, y_l[::-1]]),\n",
        "                 alpha=.3, fc=shade_color, ec='None',\n",
        "                 label = method_name + ' Prediction interval')\n",
        "    \n",
        "    if pred is not None:        \n",
        "        plt.plot(x, pred, 'k--', lw=2, alpha=0.9,\n",
        "                 label=u'Predicted value')\n",
        "    \n",
        "    #plt.ylim([-2.5, 7])\n",
        "    plt.xlabel('$X$')\n",
        "    plt.ylabel('$Y$')\n",
        "    plt.legend(loc='upper right')\n",
        "    plt.title(title)\n",
        "    \n",
        "    plt.show()"
      ],
      "metadata": {
        "id": "QV6l2zVdaLbb"
      },
      "execution_count": 54,
      "outputs": []
    },
    {
      "cell_type": "markdown",
      "source": [
        "**Split conformal**"
      ],
      "metadata": {
        "id": "mSn80Z-FdDcD"
      }
    },
    {
      "cell_type": "code",
      "source": [
        "max_idx = 25\n",
        "plot_func(x = range(max_idx),\n",
        "          y = y_test[0:max_idx],\n",
        "          y_u = y_upper[0:max_idx],\n",
        "          y_l = y_lower[0:max_idx],\n",
        "          pred = pred[0:max_idx],\n",
        "          shade_color=split_color, \n",
        "          title = f\"Split conformal ({max_idx} first points in test set)\")\n"
      ],
      "metadata": {
        "colab": {
          "base_uri": "https://localhost:8080/",
          "height": 297
        },
        "id": "clN53wl2aVtE",
        "outputId": "148b400d-8f58-4397-972a-824d9e9127f8"
      },
      "execution_count": 55,
      "outputs": [
        {
          "output_type": "display_data",
          "data": {
            "text/plain": [
              "<Figure size 432x288 with 1 Axes>"
            ],
            "image/png": "[encoded data removed]"
          },
          "metadata": {
            "needs_background": "light"
          }
        }
      ]
    },
    {
      "cell_type": "markdown",
      "source": [
        "**Local conformal**"
      ],
      "metadata": {
        "id": "VviHFvFUdGRs"
      }
    },
    {
      "cell_type": "code",
      "source": [
        "max_idx = 25\n",
        "plot_func(x = range(max_idx),\n",
        "          y = y_test[0:max_idx],\n",
        "          y_u = y_upper2[0:max_idx],\n",
        "          y_l = y_lower2[0:max_idx],\n",
        "          pred = pred2[0:max_idx],\n",
        "          shade_color=local_color, \n",
        "          title = f\"Local conformal ({max_idx} first points in test set)\")"
      ],
      "metadata": {
        "colab": {
          "base_uri": "https://localhost:8080/",
          "height": 297
        },
        "id": "O1RRN__5arNF",
        "outputId": "ff4baaf2-6486-46c6-e98c-83e8989640bb"
      },
      "execution_count": 56,
      "outputs": [
        {
          "output_type": "display_data",
          "data": {
            "text/plain": [
              "<Figure size 432x288 with 1 Axes>"
            ],
            "image/png": "[encoded data removed]"
          },
          "metadata": {
            "needs_background": "light"
          }
        }
      ]
    }
  ]
}