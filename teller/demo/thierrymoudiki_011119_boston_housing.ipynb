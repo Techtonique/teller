{
  "nbformat": 4,
  "nbformat_minor": 0,
  "metadata": {
    "colab": {
      "name": "teller_boston.ipynb",
      "provenance": [],
      "collapsed_sections": []
    },
    "kernelspec": {
      "name": "python3",
      "display_name": "Python 3"
    }
  },
  "cells": [
    {
      "cell_type": "markdown",
      "metadata": {
        "id": "VKJGj4IzMMBB",
        "colab_type": "text"
      },
      "source": [
        "# Illustrating the `teller`\n",
        "\n",
        "This notebook illustrates the use of the [`teller`](https://github.com/thierrymoudiki/teller), a model-agnostic tool for Machine Learning explainability. Two models are used: a linear model and a [Random Forest](https://en.wikipedia.org/wiki/Random_forest) (here, the _black-box_ model). The most straightforward way to illustrate the `teller` is to use a linear model. In this case, the effects of model covariates on the response can be directly related to the linear model's coefficients.\n",
        "\n",
        "Currently, the `teller` can be installed from Github as: "
      ]
    },
    {
      "cell_type": "code",
      "metadata": {
        "id": "O0x4rfI9MByJ",
        "colab_type": "code",
        "colab": {}
      },
      "source": [
        "pip install git+https://github.com/thierrymoudiki/teller.git"
      ],
      "execution_count": 0,
      "outputs": []
    },
    {
      "cell_type": "markdown",
      "metadata": {
        "id": "dUZwnL7NM8ri",
        "colab_type": "text"
      },
      "source": [
        "Data for the demo is Boston Housing dataset. The response is MEDV, Median value of owner-occupied homes in $1000’s (the __reponse__):\n",
        "\n",
        "\n",
        "\n",
        "- CRIM per capita crime rate by town\n",
        "- ZN proportion of residential land zoned for lots over 25,000 sq.ft.\n",
        "- INDUS proportion of non-retail business acres per town\n",
        "- CHAS Charles River dummy variable (= 1 if tract bounds river; 0 otherwise)\n",
        "- NOX nitric oxides concentration (parts per 10 million)\n",
        "- RM average number of rooms per dwelling\n",
        "- AGE proportion of owner-occupied units built prior to 1940\n",
        "- DIS weighted distances to five Boston employment centres\n",
        "- RAD index of accessibility to radial highways\n",
        "- TAX full-value property-tax rate per $10,000\n",
        "\n",
        "- PTRATIO pupil-teacher ratio by town\n",
        "- LSTAT % lower status of the population\n",
        "- MEDV Median value of owner-occupied homes in $1000’s (the __reponse__)\n"
      ]
    },
    {
      "cell_type": "code",
      "metadata": {
        "id": "C4X01QkpNDWc",
        "colab_type": "code",
        "colab": {}
      },
      "source": [
        "import teller as tr\n",
        "import pandas as pd\n",
        "import numpy as np      \n",
        "\n",
        "from sklearn import datasets, linear_model\n",
        "from sklearn.ensemble import RandomForestRegressor\n",
        "from sklearn import datasets\n",
        "from sklearn.model_selection import train_test_split\n",
        "\n",
        "\n",
        "# import data\n",
        "boston = datasets.load_boston()\n",
        "X = np.delete(boston.data, 11, 1)\n",
        "y = boston.target\n",
        "col_names = np.append(np.delete(boston.feature_names, 11), 'MEDV')\n"
      ],
      "execution_count": 0,
      "outputs": []
    },
    {
      "cell_type": "markdown",
      "metadata": {
        "id": "ChTdmrmHNIUS",
        "colab_type": "text"
      },
      "source": [
        "Split data into a training and a testing set:"
      ]
    },
    {
      "cell_type": "code",
      "metadata": {
        "id": "fGFLkh4FNLnD",
        "colab_type": "code",
        "outputId": "8bd6ed74-0ebf-4ec9-8284-8ced5c577839",
        "colab": {
          "base_uri": "https://localhost:8080/",
          "height": 52
        }
      },
      "source": [
        "X_train, X_test, y_train, y_test = train_test_split(X, y, test_size=0.2, \n",
        "                                                    random_state=123)\n",
        "print(X_train.shape)\n",
        "print(X_test.shape)\n"
      ],
      "execution_count": 10,
      "outputs": [
        {
          "output_type": "stream",
          "text": [
            "(404, 12)\n",
            "(102, 12)\n"
          ],
          "name": "stdout"
        }
      ]
    },
    {
      "cell_type": "markdown",
      "metadata": {
        "id": "cY_Da35hNp1P",
        "colab_type": "text"
      },
      "source": [
        "As we said before, the most straightforward way to illustrate the `teller` is to use a linear model. In this case, the effects of model covariates on the response can be directly related to the linear model's coefficients."
      ]
    },
    {
      "cell_type": "code",
      "metadata": {
        "id": "CYO0oiBJNmiQ",
        "colab_type": "code",
        "outputId": "4d8923cf-9bd6-4f2e-c786-a7f86fcae2da",
        "colab": {
          "base_uri": "https://localhost:8080/",
          "height": 104
        }
      },
      "source": [
        "# fit a linear regression model \n",
        "regr = linear_model.LinearRegression()\n",
        "regr.fit(X_train, y_train)\n",
        "print(col_names)\n",
        "print(regr.coef_) # these will be compared to effects \n"
      ],
      "execution_count": 11,
      "outputs": [
        {
          "output_type": "stream",
          "text": [
            "['CRIM' 'ZN' 'INDUS' 'CHAS' 'NOX' 'RM' 'AGE' 'DIS' 'RAD' 'TAX' 'PTRATIO'\n",
            " 'LSTAT' 'MEDV']\n",
            "[-1.01154624e-01  4.76941400e-02  6.25165481e-02  1.47253911e+00\n",
            " -1.61503638e+01  4.19880279e+00  1.85740482e-03 -1.37739515e+00\n",
            "  2.62817392e-01 -1.28645883e-02 -8.92383870e-01 -5.72958247e-01]\n"
          ],
          "name": "stdout"
        }
      ]
    },
    {
      "cell_type": "markdown",
      "metadata": {
        "id": "qxXANPvJO6mX",
        "colab_type": "text"
      },
      "source": [
        "Now, using the `teller`, we can obtain a similar result. Notice that there's no heterogeneity in the effects of covariates on the response, and that the effects are equal to linear model's coefficients."
      ]
    },
    {
      "cell_type": "code",
      "metadata": {
        "id": "Ah4ELhu6PO9J",
        "colab_type": "code",
        "outputId": "e6f8bbad-8f22-4850-c539-316f883b722b",
        "colab": {
          "base_uri": "https://localhost:8080/",
          "height": 312
        }
      },
      "source": [
        "# creating the explainer (needs a data frame, for column names)\n",
        "expr = tr.Explainer(obj=regr)\n",
        "\n",
        "# fitting the explainer\n",
        "expr.fit(X_test, y_test, X_names=col_names[:-1], y_name=col_names[-1])\n",
        "\n",
        "# model effects, to be compared to regr.coef_\n",
        "print(expr.summary())"
      ],
      "execution_count": 12,
      "outputs": [
        {
          "output_type": "stream",
          "text": [
            "\n",
            "\n",
            "Heterogeneity of marginal effects: \n",
            "              mean           std        min        max\n",
            "NOX     -16.150364  4.653454e-10 -16.150364 -16.150364\n",
            "DIS      -1.377395  7.876549e-11  -1.377395  -1.377395\n",
            "PTRATIO  -0.892384  1.272029e-11  -0.892384  -0.892384\n",
            "LSTAT    -0.572958  2.521022e-11  -0.572958  -0.572958\n",
            "CRIM     -0.101155  3.162134e-09  -0.101155  -0.101155\n",
            "TAX      -0.012865  7.018682e-13  -0.012865  -0.012865\n",
            "AGE       0.001857  5.350552e-12   0.001857   0.001857\n",
            "ZN        0.047694  1.182888e-11   0.047694   0.047694\n",
            "INDUS     0.062517  3.562424e-11   0.062517   0.062517\n",
            "RAD       0.262817  5.098845e-11   0.262817   0.262817\n",
            "CHAS      1.472539  8.301885e-11   1.472539   1.472539\n",
            "RM        4.198803  5.172671e-11   4.198803   4.198803\n",
            "None\n"
          ],
          "name": "stdout"
        }
      ]
    },
    {
      "cell_type": "markdown",
      "metadata": {
        "id": "ejQD_HQvRBxM",
        "colab_type": "text"
      },
      "source": [
        "__All else held constant__, homes values are mostly affected by air pollution here, with a decrease of 16k\\$ observed for an increase of 10 million parts in concentration of nitric oxides. The number of rooms drives the increase in homes values, with an increase of 4k\\$ each time a room is added. What story does  Random Forest (here, the _black-box_ model) model tells us here?"
      ]
    },
    {
      "cell_type": "code",
      "metadata": {
        "id": "AXdQVSDMRAp8",
        "colab_type": "code",
        "outputId": "a5bbdac9-f29a-4548-e083-d53b568266b0",
        "colab": {
          "base_uri": "https://localhost:8080/",
          "height": 312
        }
      },
      "source": [
        "# fit a linear regression model \n",
        "regr2 = RandomForestRegressor(n_estimators=1000, random_state=123)\n",
        "regr2.fit(X_train, y_train)\n",
        "\n",
        "\n",
        "# creating the explainer\n",
        "expr = tr.Explainer(obj=regr2)\n",
        "\n",
        "\n",
        "# fitting the explainer\n",
        "expr.fit(X_test, y_test, X_names=col_names[:-1], y_name=col_names[-1])\n",
        "\n",
        "\n",
        "# heterogeneity of effects\n",
        "print(expr.summary())"
      ],
      "execution_count": 13,
      "outputs": [
        {
          "output_type": "stream",
          "text": [
            "\n",
            "\n",
            "Heterogeneity of marginal effects: \n",
            "              mean         std          min          max\n",
            "LSTAT   -11.541770  104.111356  -680.369720   335.990384\n",
            "PTRATIO  -5.795078   26.975073  -155.914653    56.827716\n",
            "INDUS    -3.425733   26.951393  -258.382895     0.000000\n",
            "TAX      -0.052272    0.824834    -6.479723     4.839278\n",
            "CHAS      0.000000    0.000000     0.000000     0.000000\n",
            "AGE       0.970438    5.204533    -7.242999    39.647849\n",
            "ZN        1.043840   11.672871   -28.280289    83.808739\n",
            "NOX       1.286747  325.585815 -1258.347012  1937.006074\n",
            "DIS       2.014293   20.343364     0.000000   205.457901\n",
            "RAD      18.420244  192.075879  -247.710558  1791.773035\n",
            "RM       28.570050  146.327113  -123.772764  1126.812921\n",
            "CRIM     72.200382  585.402432     0.000000  5685.533164\n",
            "None\n"
          ],
          "name": "stdout"
        }
      ]
    },
    {
      "cell_type": "markdown",
      "metadata": {
        "id": "JdRGlnl1SWm0",
        "colab_type": "text"
      },
      "source": [
        "Here, home values decrease most when the percentage of \"lower\" status population increases, or when there are not enough teachers for each kid in the area. __All else held constant__, the number or rooms is still an important driver for an increase. The distance to highways and employment centers also play an important role here. Conversely, what is said about the criminality rate is rather surprising. \n",
        "\n",
        "__(Very) Important__: Typically, these interpretability numbers would be coupled with __model's accuracy__ (and other performance considerations for production)."
      ]
    },
    {
      "cell_type": "code",
      "metadata": {
        "id": "e35LQ77PUqgT",
        "colab_type": "code",
        "outputId": "c5fef014-9bca-4e3d-d75a-2ef0f59b99fc",
        "colab": {
          "base_uri": "https://localhost:8080/",
          "height": 52
        }
      },
      "source": [
        "# accuracy of linear model \n",
        "print(np.sqrt(np.mean((regr.predict(X_test) - y_test)**2)))\n",
        "\n",
        "# accuracy of Random Forest\n",
        "print(np.sqrt(np.mean((regr2.predict(X_test) - y_test)**2)))"
      ],
      "execution_count": 14,
      "outputs": [
        {
          "output_type": "stream",
          "text": [
            "5.431091875823595\n",
            "4.322189349251635\n"
          ],
          "name": "stdout"
        }
      ]
    }
  ]
}